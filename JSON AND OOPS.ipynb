{
 "cells": [
  {
   "cell_type": "code",
   "execution_count": 1,
   "id": "897d5cd8",
   "metadata": {},
   "outputs": [],
   "source": [
    "dic=[{'Name':'Shubham',\n",
    "'DOB':'15/06/1996',\n",
    "'Height':5.11,\n",
    "'City':'Lalkuan',\n",
    "'State':'Uttarakhand'},\n",
    "{'Name':'Govind',\n",
    "'DOB':'05/08/1990',\n",
    "'Height':5.09,\n",
    "'City':'Haldwani',\n",
    "'State':'Uttarakhand'},\n",
    "{'Name':'Radhe',\n",
    "'DOB':'03/06/1998',\n",
    "'Height':5.05,\n",
    "'City':'Bandel',\n",
    "'State':'WestBengal'},\n",
    "{'Name':'Kartik',\n",
    "'DOB':'01/01/2002',\n",
    "'Height':4.11,\n",
    "'City':'Howrah',\n",
    "'State':'WestBengal'},\n",
    "{'Name':'Suraj',\n",
    "'DOB':'02/02/1980',\n",
    "'Height':5.07,\n",
    "'City':'Katgodam',\n",
    "'State':'Delhi'}]"
   ]
  },
  {
   "cell_type": "code",
   "execution_count": 2,
   "id": "7fc550dd",
   "metadata": {},
   "outputs": [],
   "source": [
    "import json\n",
    "with open (\"employee.json\",\"w\") as file:\n",
    "    json.dump(dic,file)"
   ]
  },
  {
   "cell_type": "code",
   "execution_count": 23,
   "id": "d9ab6ed7",
   "metadata": {},
   "outputs": [],
   "source": [
    "class Employee:\n",
    "    def __init__(self,Name,DOB,Height,City,State):\n",
    "        self.Name = Name\n",
    "        self.DOB = DOB\n",
    "        self.Height = Height\n",
    "        self.City=City\n",
    "        self.State=State\n",
    "try:\n",
    "    with open('employee.json', 'r') as file:\n",
    "        data = json.load(file)\n",
    "except FileNotFoundError:\n",
    "    print(\"The JSON file 'employee.json' does not exist.\")\n",
    "    exit()\n",
    "employee_list = []\n",
    "for employee_data in data:\n",
    "    employee =Employee(employee_data['Name'], employee_data['DOB'], employee_data['Height'],employee_data['City'],employee_data['State'])\n",
    "    employee_list.append(employee)\n"
   ]
  },
  {
   "cell_type": "code",
   "execution_count": 5,
   "id": "3b14a575",
   "metadata": {},
   "outputs": [],
   "source": [
    "dictionary={'Uttarakhand':'Dehradun','WestBengal':'Kolkata','Bihar':'Patna','UttarPradesh':'Lucknow','Karnataka':'Bengaluru'}"
   ]
  },
  {
   "cell_type": "code",
   "execution_count": 6,
   "id": "b48d7d51",
   "metadata": {},
   "outputs": [],
   "source": [
    "with open (\"Capitals_name.json\",\"w\") as file:\n",
    "    json_dict=json.dump(dictionary,file)"
   ]
  },
  {
   "cell_type": "code",
   "execution_count": 7,
   "id": "96b8467a",
   "metadata": {},
   "outputs": [],
   "source": [
    "class Dog:\n",
    "    def __init__(self,name,age,coatcolor):\n",
    "        self.name=name\n",
    "        self.age=age\n",
    "        self.coatcolor=coatcolor\n",
    "    def description(self):\n",
    "        print(self.name,self.age)\n",
    "    def get_info():\n",
    "        print(self.coatcolor)\n",
    "class JackRussellTerrier(Dog):\n",
    "    def __init__(self,name,age,coatcolor,weight,size):\n",
    "        self.weight=weight\n",
    "        self.size=size\n",
    "        super().__init__(name,age,coatcolor)\n",
    "    def weight_info(self):\n",
    "        print(self.weight)\n",
    "    def size_info(self):\n",
    "        print(self.size)\n",
    "class Bulldog(Dog):\n",
    "    def __init__(self,name,age,coatcolor,weight,size):\n",
    "        self.weight=weight\n",
    "        self.size=size\n",
    "        super().__init__(name,age,coatcolor)\n",
    "    def weight_info(self):\n",
    "        print(self.weight)\n",
    "    def size_info(self):\n",
    "        print(self.size)\n",
    "    \n",
    "        "
   ]
  },
  {
   "cell_type": "code",
   "execution_count": 8,
   "id": "d42498b2",
   "metadata": {},
   "outputs": [],
   "source": [
    "Bull_dog=Bulldog(\"Beast\",6,\"Black\",56,6.6)"
   ]
  },
  {
   "cell_type": "code",
   "execution_count": 9,
   "id": "3fd7bb15",
   "metadata": {},
   "outputs": [
    {
     "name": "stdout",
     "output_type": "stream",
     "text": [
      "Beast 6\n"
     ]
    }
   ],
   "source": [
    "Bull_dog.description()"
   ]
  },
  {
   "cell_type": "code",
   "execution_count": 10,
   "id": "4126374f",
   "metadata": {},
   "outputs": [
    {
     "name": "stdout",
     "output_type": "stream",
     "text": [
      "56\n"
     ]
    }
   ],
   "source": [
    "Bull_dog.weight_info()"
   ]
  },
  {
   "cell_type": "code",
   "execution_count": 11,
   "id": "1ecf7e4b",
   "metadata": {},
   "outputs": [
    {
     "data": {
      "text/plain": [
       "56"
      ]
     },
     "execution_count": 11,
     "metadata": {},
     "output_type": "execute_result"
    }
   ],
   "source": [
    "Bull_dog.weight"
   ]
  },
  {
   "cell_type": "code",
   "execution_count": 12,
   "id": "3fa4754d",
   "metadata": {},
   "outputs": [
    {
     "name": "stdout",
     "output_type": "stream",
     "text": [
      "6.6\n"
     ]
    }
   ],
   "source": [
    "Bull_dog.size_info()"
   ]
  }
 ],
 "metadata": {
  "kernelspec": {
   "display_name": "Python 3 (ipykernel)",
   "language": "python",
   "name": "python3"
  },
  "language_info": {
   "codemirror_mode": {
    "name": "ipython",
    "version": 3
   },
   "file_extension": ".py",
   "mimetype": "text/x-python",
   "name": "python",
   "nbconvert_exporter": "python",
   "pygments_lexer": "ipython3",
   "version": "3.9.12"
  }
 },
 "nbformat": 4,
 "nbformat_minor": 5
}
